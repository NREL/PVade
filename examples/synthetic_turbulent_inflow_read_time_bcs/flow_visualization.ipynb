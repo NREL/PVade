{
 "cells": [
  {
   "cell_type": "code",
   "execution_count": 4,
   "metadata": {},
   "outputs": [],
   "source": [
    "# Post-Processing and Visualization of the flow\n",
    "import numpy as np\n",
    "import pandas as pd\n",
    "import os\n",
    "import h5py\n",
    "import matplotlib.pyplot as plt"
   ]
  },
  {
   "cell_type": "code",
   "execution_count": 60,
   "metadata": {},
   "outputs": [
    {
     "name": "stdout",
     "output_type": "stream",
     "text": [
      "velocity\n",
      "xdmf_file =  applied_bcs.xdmf\n"
     ]
    },
    {
     "ename": "KeyError",
     "evalue": "'Unable to synchronously open object (component not found)'",
     "output_type": "error",
     "traceback": [
      "\u001b[0;31m---------------------------------------------------------------------------\u001b[0m",
      "\u001b[0;31mKeyError\u001b[0m                                  Traceback (most recent call last)",
      "Cell \u001b[0;32mIn[60], line 45\u001b[0m\n\u001b[1;32m     42\u001b[0m     \u001b[38;5;28;01mfor\u001b[39;00m k \u001b[38;5;129;01min\u001b[39;00m f[\u001b[38;5;124m'\u001b[39m\u001b[38;5;124mFunction\u001b[39m\u001b[38;5;124m'\u001b[39m]\u001b[38;5;241m.\u001b[39mkeys():\n\u001b[1;32m     43\u001b[0m         \u001b[38;5;28mprint\u001b[39m(k)\n\u001b[0;32m---> 45\u001b[0m data \u001b[38;5;241m=\u001b[39m \u001b[43mPVadeH5File\u001b[49m\u001b[43m(\u001b[49m\u001b[43mfn\u001b[49m\u001b[43m,\u001b[49m\u001b[43m \u001b[49m\u001b[43mwind_direction\u001b[49m\u001b[43m,\u001b[49m\u001b[43m \u001b[49m\u001b[43mstart_time\u001b[49m\u001b[43m)\u001b[49m\n\u001b[1;32m     47\u001b[0m \u001b[38;5;66;03m# fig, ax = plt.subplots(1, 1, figsize=(5, 4))\u001b[39;00m\n\u001b[1;32m     48\u001b[0m \u001b[38;5;66;03m# for name, v in values.items():\u001b[39;00m\n\u001b[1;32m     49\u001b[0m \u001b[38;5;66;03m#     row = int(name[0])\u001b[39;00m\n\u001b[1;32m     50\u001b[0m \u001b[38;5;66;03m#     ax[row].plot(data.time, v, '-', label=name)\u001b[39;00m\n\u001b[1;32m     51\u001b[0m \u001b[38;5;66;03m# ax[-1].set_xlabel('time')\u001b[39;00m\n",
      "Cell \u001b[0;32mIn[60], line 11\u001b[0m, in \u001b[0;36mPVadeH5File.__init__\u001b[0;34m(self, fn, wind_direction, start_time)\u001b[0m\n\u001b[1;32m      5\u001b[0m \u001b[38;5;28mprint\u001b[39m(\u001b[38;5;124m'\u001b[39m\u001b[38;5;124mxdmf_file = \u001b[39m\u001b[38;5;124m'\u001b[39m, xdmf_file)\n\u001b[1;32m      7\u001b[0m \u001b[38;5;28;01mwith\u001b[39;00m h5py\u001b[38;5;241m.\u001b[39mFile(h5_file, \u001b[38;5;124m'\u001b[39m\u001b[38;5;124mr\u001b[39m\u001b[38;5;124m'\u001b[39m) \u001b[38;5;28;01mas\u001b[39;00m f:\n\u001b[1;32m      8\u001b[0m     \u001b[38;5;66;03m# # get 3d mesh in format (n_points, 3)\u001b[39;00m\n\u001b[1;32m      9\u001b[0m     \u001b[38;5;66;03m# self.xyz_mesh = f[xdmf_file+'/mesh'][:, :]\u001b[39;00m\n\u001b[1;32m     10\u001b[0m     \u001b[38;5;66;03m# self.xyz_mesh = f['Function/mesh']\u001b[39;00m\n\u001b[0;32m---> 11\u001b[0m     xyz_mesh \u001b[38;5;241m=\u001b[39m \u001b[43mf\u001b[49m\u001b[43m[\u001b[49m\u001b[38;5;124;43m'\u001b[39;49m\u001b[38;5;124;43mapplied_bcs.xdmf/mesh\u001b[39;49m\u001b[38;5;124;43m'\u001b[39;49m\u001b[43m]\u001b[49m[:, :]\n\u001b[1;32m     12\u001b[0m     \u001b[38;5;66;03m# print('mesh is type ', type(f[xdmf_file+'/mesh'])) \u001b[39;00m\n\u001b[1;32m     14\u001b[0m     \u001b[38;5;28mself\u001b[39m\u001b[38;5;241m.\u001b[39mvelocity_timeseries \u001b[38;5;241m=\u001b[39m f[\u001b[38;5;124m'\u001b[39m\u001b[38;5;124mFunction/velocity\u001b[39m\u001b[38;5;124m'\u001b[39m]\n",
      "File \u001b[0;32mh5py/_objects.pyx:54\u001b[0m, in \u001b[0;36mh5py._objects.with_phil.wrapper\u001b[0;34m()\u001b[0m\n",
      "File \u001b[0;32mh5py/_objects.pyx:55\u001b[0m, in \u001b[0;36mh5py._objects.with_phil.wrapper\u001b[0;34m()\u001b[0m\n",
      "File \u001b[0;32m~/miniforge3/envs/pvade-pvlib/lib/python3.10/site-packages/h5py/_hl/group.py:357\u001b[0m, in \u001b[0;36mGroup.__getitem__\u001b[0;34m(self, name)\u001b[0m\n\u001b[1;32m    355\u001b[0m         \u001b[38;5;28;01mraise\u001b[39;00m \u001b[38;5;167;01mValueError\u001b[39;00m(\u001b[38;5;124m\"\u001b[39m\u001b[38;5;124mInvalid HDF5 object reference\u001b[39m\u001b[38;5;124m\"\u001b[39m)\n\u001b[1;32m    356\u001b[0m \u001b[38;5;28;01melif\u001b[39;00m \u001b[38;5;28misinstance\u001b[39m(name, (\u001b[38;5;28mbytes\u001b[39m, \u001b[38;5;28mstr\u001b[39m)):\n\u001b[0;32m--> 357\u001b[0m     oid \u001b[38;5;241m=\u001b[39m \u001b[43mh5o\u001b[49m\u001b[38;5;241;43m.\u001b[39;49m\u001b[43mopen\u001b[49m\u001b[43m(\u001b[49m\u001b[38;5;28;43mself\u001b[39;49m\u001b[38;5;241;43m.\u001b[39;49m\u001b[43mid\u001b[49m\u001b[43m,\u001b[49m\u001b[43m \u001b[49m\u001b[38;5;28;43mself\u001b[39;49m\u001b[38;5;241;43m.\u001b[39;49m\u001b[43m_e\u001b[49m\u001b[43m(\u001b[49m\u001b[43mname\u001b[49m\u001b[43m)\u001b[49m\u001b[43m,\u001b[49m\u001b[43m \u001b[49m\u001b[43mlapl\u001b[49m\u001b[38;5;241;43m=\u001b[39;49m\u001b[38;5;28;43mself\u001b[39;49m\u001b[38;5;241;43m.\u001b[39;49m\u001b[43m_lapl\u001b[49m\u001b[43m)\u001b[49m\n\u001b[1;32m    358\u001b[0m \u001b[38;5;28;01melse\u001b[39;00m:\n\u001b[1;32m    359\u001b[0m     \u001b[38;5;28;01mraise\u001b[39;00m \u001b[38;5;167;01mTypeError\u001b[39;00m(\u001b[38;5;124m\"\u001b[39m\u001b[38;5;124mAccessing a group is done with bytes or str, \u001b[39m\u001b[38;5;124m\"\u001b[39m\n\u001b[1;32m    360\u001b[0m                     \u001b[38;5;124m\"\u001b[39m\u001b[38;5;124mnot \u001b[39m\u001b[38;5;132;01m{}\u001b[39;00m\u001b[38;5;124m\"\u001b[39m\u001b[38;5;241m.\u001b[39mformat(\u001b[38;5;28mtype\u001b[39m(name)))\n",
      "File \u001b[0;32mh5py/_objects.pyx:54\u001b[0m, in \u001b[0;36mh5py._objects.with_phil.wrapper\u001b[0;34m()\u001b[0m\n",
      "File \u001b[0;32mh5py/_objects.pyx:55\u001b[0m, in \u001b[0;36mh5py._objects.with_phil.wrapper\u001b[0;34m()\u001b[0m\n",
      "File \u001b[0;32mh5py/h5o.pyx:189\u001b[0m, in \u001b[0;36mh5py.h5o.open\u001b[0;34m()\u001b[0m\n",
      "\u001b[0;31mKeyError\u001b[0m: 'Unable to synchronously open object (component not found)'"
     ]
    }
   ],
   "source": [
    "class PVadeH5File():\n",
    "    def __init__(self, fn, wind_direction, start_time):\n",
    "        h5_file = fn + '.h5'\n",
    "        xdmf_file = fn + '.xdmf'\n",
    "        print('xdmf_file = ', xdmf_file)\n",
    "\n",
    "        with h5py.File(h5_file, 'r') as f:\n",
    "            # # get 3d mesh in format (n_points, 3)\n",
    "            # self.xyz_mesh = f[xdmf_file+'/mesh'][:, :]\n",
    "            # self.xyz_mesh = f['Function/mesh']\n",
    "            xyz_mesh = f['applied_bcs.xdmf/mesh'][:, :]\n",
    "            # print('mesh is type ', type(f[xdmf_file+'/mesh'])) \n",
    "\n",
    "            self.velocity_timeseries = f['Function/velocity']\n",
    "            self.timesteps_dict = {self.string_to_float(s): s for s in self.velocity_timeseries.keys()}\n",
    "            self.timesteps_float = sorted(self.timesteps_dict.keys())\n",
    "            self.time = np.array(self.timesteps_float)[np.where(np.array(self.timesteps_float)>=start_time)]\n",
    "            print(f\"\\nFinal time: {self.timesteps_float[-1]}, with timestep: {self.timesteps_float[1] -  self.timesteps_float[0]}\")\n",
    "            print(f\"Number of timesteps: {len(self.timesteps_float)}\")\n",
    "\n",
    "            a_group_key = list(f.keys())[0]\n",
    "            print(type(f[a_group_key])) \n",
    "            \n",
    "            # Getting the data\n",
    "            # self.data = f['Function/velocity']\n",
    "            # self.np_data = np.fromfile(h5_file, dtype=float)\n",
    "            # print(self.np_data)\n",
    "\n",
    "    @staticmethod\n",
    "    def string_to_float(s):\n",
    "        return float(s.replace(\"_\", \".\"))\n",
    "\n",
    "    \n",
    "fn = 'applied_bcs'\n",
    "wind_speed = 10\n",
    "wind_direction = 270\n",
    "start_time = 0.0\n",
    "\n",
    "h5_file = fn + '.h5'\n",
    "\n",
    "with h5py.File(h5_file, 'r') as f:\n",
    "    for k in f['Function'].keys():\n",
    "        print(k)\n",
    "\n",
    "data = PVadeH5File(fn, wind_direction, start_time)\n",
    "\n",
    "# fig, ax = plt.subplots(1, 1, figsize=(5, 4))\n",
    "# for name, v in values.items():\n",
    "#     row = int(name[0])\n",
    "#     ax[row].plot(data.time, v, '-', label=name)\n",
    "# ax[-1].set_xlabel('time')\n"
   ]
  },
  {
   "cell_type": "code",
   "execution_count": 50,
   "metadata": {},
   "outputs": [
    {
     "data": {
      "text/plain": [
       "(4586034,)"
      ]
     },
     "execution_count": 50,
     "metadata": {},
     "output_type": "execute_result"
    }
   ],
   "source": [
    "np.shape(data.np_data)"
   ]
  },
  {
   "cell_type": "code",
   "execution_count": 54,
   "metadata": {},
   "outputs": [
    {
     "data": {
      "text/plain": [
       "162.79850905218316"
      ]
     },
     "execution_count": 54,
     "metadata": {},
     "output_type": "execute_result"
    }
   ],
   "source": [
    "4586034/28170"
   ]
  },
  {
   "cell_type": "code",
   "execution_count": 40,
   "metadata": {},
   "outputs": [
    {
     "data": {
      "text/plain": [
       "array([0. , 0.1, 0.2, 0.3, 0.4, 0.5, 0.6, 0.7, 0.8, 0.9, 1. , 1.1, 1.2,\n",
       "       1.3, 1.4, 1.5, 1.6, 1.7, 1.8, 1.9, 2. , 2.1, 2.2, 2.3, 2.4, 2.5,\n",
       "       2.6, 2.7, 2.8, 2.9, 3. , 3.1, 3.2, 3.3, 3.4, 3.5, 3.6, 3.7, 3.8,\n",
       "       3.9, 4. , 4.1, 4.2, 4.3, 4.4, 4.5, 4.6, 4.7, 4.8, 4.9, 5. , 5.1,\n",
       "       5.2, 5.3, 5.4, 5.5, 5.6, 5.7, 5.8, 5.9, 6. , 6.1, 6.2, 6.3, 6.4,\n",
       "       6.5, 6.6, 6.7, 6.8, 6.9, 7. , 7.1, 7.2, 7.3, 7.4, 7.5, 7.6, 7.7,\n",
       "       7.8, 7.9, 8. , 8.1, 8.2, 8.3, 8.4, 8.5, 8.6, 8.7, 8.8, 8.9, 9. ,\n",
       "       9.1, 9.2, 9.3, 9.4, 9.5, 9.6, 9.7, 9.8, 9.9])"
      ]
     },
     "execution_count": 40,
     "metadata": {},
     "output_type": "execute_result"
    }
   ],
   "source": [
    "data.time"
   ]
  },
  {
   "cell_type": "code",
   "execution_count": 41,
   "metadata": {},
   "outputs": [
    {
     "data": {
      "text/plain": [
       "{0.0: '0',\n",
       " 0.1: '0_10000000000000001',\n",
       " 0.2: '0_20000000000000001',\n",
       " 0.30000000000000004: '0_30000000000000004',\n",
       " 0.4: '0_40000000000000002',\n",
       " 0.5: '0_5',\n",
       " 0.6000000000000001: '0_60000000000000009',\n",
       " 0.7000000000000001: '0_70000000000000007',\n",
       " 0.8: '0_80000000000000004',\n",
       " 0.9: '0_90000000000000002',\n",
       " 1.0: '1',\n",
       " 1.1: '1_1000000000000001',\n",
       " 1.2000000000000002: '1_2000000000000002',\n",
       " 1.3: '1_3',\n",
       " 1.4000000000000001: '1_4000000000000001',\n",
       " 1.5: '1_5',\n",
       " 1.6: '1_6000000000000001',\n",
       " 1.7000000000000002: '1_7000000000000002',\n",
       " 1.8: '1_8',\n",
       " 1.9000000000000001: '1_9000000000000001',\n",
       " 2.0: '2',\n",
       " 2.1: '2_1000000000000001',\n",
       " 2.2: '2_2000000000000002',\n",
       " 2.3000000000000003: '2_3000000000000003',\n",
       " 2.4000000000000004: '2_4000000000000004',\n",
       " 2.5: '2_5',\n",
       " 2.6: '2_6000000000000001',\n",
       " 2.7: '2_7000000000000002',\n",
       " 2.8000000000000003: '2_8000000000000003',\n",
       " 2.9000000000000004: '2_9000000000000004',\n",
       " 3.0: '3',\n",
       " 3.1: '3_1000000000000001',\n",
       " 3.2: '3_2000000000000002',\n",
       " 3.3000000000000003: '3_3000000000000003',\n",
       " 3.4000000000000004: '3_4000000000000004',\n",
       " 3.5: '3_5',\n",
       " 3.6: '3_6000000000000001',\n",
       " 3.7: '3_7000000000000002',\n",
       " 3.8000000000000003: '3_8000000000000003',\n",
       " 3.9000000000000004: '3_9000000000000004',\n",
       " 4.0: '4',\n",
       " 4.1000000000000005: '4_1000000000000005',\n",
       " 4.2: '4_2000000000000002',\n",
       " 4.3: '4_2999999999999998',\n",
       " 4.4: '4_4000000000000004',\n",
       " 4.5: '4_5',\n",
       " 4.6000000000000005: '4_6000000000000005',\n",
       " 4.7: '4_7000000000000002',\n",
       " 4.800000000000001: '4_8000000000000007',\n",
       " 4.9: '4_9000000000000004',\n",
       " 5.0: '5',\n",
       " 5.1000000000000005: '5_1000000000000005',\n",
       " 5.2: '5_2000000000000002',\n",
       " 5.300000000000001: '5_3000000000000007',\n",
       " 5.4: '5_4000000000000004',\n",
       " 5.5: '5_5',\n",
       " 5.6000000000000005: '5_6000000000000005',\n",
       " 5.7: '5_7000000000000002',\n",
       " 5.800000000000001: '5_8000000000000007',\n",
       " 5.9: '5_9000000000000004',\n",
       " 6.0: '6',\n",
       " 6.1000000000000005: '6_1000000000000005',\n",
       " 6.2: '6_2000000000000002',\n",
       " 6.300000000000001: '6_3000000000000007',\n",
       " 6.4: '6_4000000000000004',\n",
       " 6.5: '6_5',\n",
       " 6.6000000000000005: '6_6000000000000005',\n",
       " 6.7: '6_7000000000000002',\n",
       " 6.800000000000001: '6_8000000000000007',\n",
       " 6.9: '6_9000000000000004',\n",
       " 7.0: '7',\n",
       " 7.1000000000000005: '7_1000000000000005',\n",
       " 7.2: '7_2000000000000002',\n",
       " 7.300000000000001: '7_3000000000000007',\n",
       " 7.4: '7_4000000000000004',\n",
       " 7.5: '7_5',\n",
       " 7.6000000000000005: '7_6000000000000005',\n",
       " 7.7: '7_7000000000000002',\n",
       " 7.800000000000001: '7_8000000000000007',\n",
       " 7.9: '7_9000000000000004',\n",
       " 8.0: '8',\n",
       " 8.1: '8_0999999999999996',\n",
       " 8.200000000000001: '8_2000000000000011',\n",
       " 8.3: '8_3000000000000007',\n",
       " 8.4: '8_4000000000000004',\n",
       " 8.5: '8_5',\n",
       " 8.6: '8_5999999999999996',\n",
       " 8.700000000000001: '8_7000000000000011',\n",
       " 8.8: '8_8000000000000007',\n",
       " 8.9: '8_9000000000000004',\n",
       " 9.0: '9',\n",
       " 9.1: '9_0999999999999996',\n",
       " 9.200000000000001: '9_2000000000000011',\n",
       " 9.3: '9_3000000000000007',\n",
       " 9.4: '9_4000000000000004',\n",
       " 9.5: '9_5',\n",
       " 9.600000000000001: '9_6000000000000014',\n",
       " 9.700000000000001: '9_7000000000000011',\n",
       " 9.8: '9_8000000000000007',\n",
       " 9.9: '9_9000000000000004'}"
      ]
     },
     "execution_count": 41,
     "metadata": {},
     "output_type": "execute_result"
    }
   ],
   "source": [
    "data.timesteps_dict"
   ]
  },
  {
   "cell_type": "code",
   "execution_count": 42,
   "metadata": {},
   "outputs": [
    {
     "ename": "TypeError",
     "evalue": "list indices must be integers or slices, not str",
     "output_type": "error",
     "traceback": [
      "\u001b[0;31m---------------------------------------------------------------------------\u001b[0m",
      "\u001b[0;31mTypeError\u001b[0m                                 Traceback (most recent call last)",
      "Cell \u001b[0;32mIn[42], line 1\u001b[0m\n\u001b[0;32m----> 1\u001b[0m \u001b[43mdata\u001b[49m\u001b[38;5;241;43m.\u001b[39;49m\u001b[43mdata\u001b[49m\u001b[43m[\u001b[49m\u001b[43mdata\u001b[49m\u001b[38;5;241;43m.\u001b[39;49m\u001b[43mtimesteps_dict\u001b[49m\u001b[43m[\u001b[49m\u001b[38;5;241;43m0.\u001b[39;49m\u001b[43m]\u001b[49m\u001b[43m]\u001b[49m\n",
      "\u001b[0;31mTypeError\u001b[0m: list indices must be integers or slices, not str"
     ]
    }
   ],
   "source": [
    "data.data[data.timesteps_dict[0.]]"
   ]
  }
 ],
 "metadata": {
  "kernelspec": {
   "display_name": "pvade-pvlib",
   "language": "python",
   "name": "python3"
  },
  "language_info": {
   "codemirror_mode": {
    "name": "ipython",
    "version": 3
   },
   "file_extension": ".py",
   "mimetype": "text/x-python",
   "name": "python",
   "nbconvert_exporter": "python",
   "pygments_lexer": "ipython3",
   "version": "3.10.13"
  }
 },
 "nbformat": 4,
 "nbformat_minor": 2
}
